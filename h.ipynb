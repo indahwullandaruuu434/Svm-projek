{
 "cells": [
  {
   "cell_type": "code",
   "execution_count": 1,
   "id": "8ee47b8b-50e7-4529-b635-539c8747aa94",
   "metadata": {},
   "outputs": [],
   "source": [
    "# SVM (Support Vector Machine)\n",
    "## indah wulandari "
   ]
  },
  {
   "cell_type": "code",
   "execution_count": null,
   "id": "88cf8fe4-a2cb-4097-8f71-6bd8a5bf1938",
   "metadata": {},
   "outputs": [],
   "source": [
    "# Import library yang diperlukan\n",
    "import pandas as pd\n",
    "import numpy as np\n",
    "import matplotlib.pyplot as plt\n",
    "import seaborn as sns\n",
    "# Preprocessing dan Machine Learning\n",
    "from sklearn.model_selection import train_test_split\n",
    "from sklearn.preprocessing import StandardScaler, OneHotEncoder\n",
    "from sklearn.compose import ColumnTransformer\n",
    "from sklearn.pipeline import Pipeline\n",
    "from sklearn.svm import SVC \n",
    "from sklearn.metrics import (\n",
    "    accuracy_score, \n",
    "    classification_report, \n",
    "    confusion_matrix,\n",
    "    roc_curve,\n",
    "    auc\n",
    ")\n"
   ]
  },
  {
   "cell_type": "code",
   "execution_count": null,
   "id": "6dc8b9ee-ab73-4715-8758-e01b28e37451",
   "metadata": {},
   "outputs": [],
   "source": [
    "df = pd.read_csv('K02_diabetes.csv')\n",
    "df"
   ]
  },
  {
   "cell_type": "code",
   "execution_count": null,
   "id": "9a31cb77-0230-4dc2-85ce-eb7b73018538",
   "metadata": {},
   "outputs": [],
   "source": [
    "# 2. Exploratory Data Analysis\n",
    "print(\"Informasi Dataset:\")\n",
    "print(df.info())\n",
    "\n",
    "print(\"\\nStatistik Deskriptif:\")\n",
    "print(df.describe())\n"
   ]
  },
  {
   "cell_type": "code",
   "execution_count": null,
   "id": "5cbf213f-c4c7-465e-87ee-0a6450f0338f",
   "metadata": {},
   "outputs": [],
   "source": [
    "# Cek missing values\n",
    "print(\"\\nMissing Values:\")\n",
    "print(df.isnull().sum())\n"
   ]
  },
  {
   "cell_type": "code",
   "execution_count": null,
   "id": "0af64536-b9fb-43d8-89b8-cf3d112ed893",
   "metadata": {},
   "outputs": [],
   "source": [
    "# 3. Preprocessing Data\n",
    "# Pisahkan fitur dan target\n",
    "X = df.drop('smoking_history', axis=1)  \n",
    "y = df['smoking_history']\n",
    "\n",
    "# Identifikasi kolom kategorikal dan numerik\n",
    "categorical_cols = X.select_dtypes(include=['object']).columns.tolist()\n",
    "numerical_cols = X.select_dtypes(exclude=['object']).columns.tolist()\n",
    "\n",
    "# Buat pipeline untuk preprocessing\n",
    "preprocessor = ColumnTransformer(\n",
    "    transformers=[\n",
    "        ('num', StandardScaler(), numerical_cols),  # Scaling untuk kolom numerik\n",
    "        ('cat', OneHotEncoder(), categorical_cols)   # One-Hot Encoding untuk kolom kategorikal\n",
    "    ]\n",
    ")\n",
    "\n",
    "# Split data\n",
    "X_train, X_test, y_train, y_test = train_test_split(\n",
    "    X, y, \n",
    "    test_size=0.2, \n",
    "    random_state=42\n",
    ")"
   ]
  },
  {
   "cell_type": "code",
   "execution_count": null,
   "id": "569474e3-4919-40ad-a7b9-8411d139d986",
   "metadata": {},
   "outputs": [],
   "source": [
    "# 4. Membangun Model SVM dengan Pipeline\n",
    "svm_model = Pipeline(steps=[\n",
    "    ('preprocessor', preprocessor),\n",
    "    ('classifier', SVC(kernel='rbf', probability=True, random_state=42))  # Mengaktifkan probabilitas untuk ROC\n",
    "])"
   ]
  },
  {
   "cell_type": "code",
   "execution_count": null,
   "id": "b539115f-91aa-49ad-8ab3-1984407bd2f4",
   "metadata": {},
   "outputs": [],
   "source": [
    "# Latih model\n",
    "svm_model.fit(X_train, y_train)"
   ]
  },
  {
   "cell_type": "code",
   "execution_count": null,
   "id": "618e0681-02c9-4fe2-aa0d-d376313daf61",
   "metadata": {},
   "outputs": [],
   "source": [
    "# 5. Prediksi\n",
    "y_pred = svm_model.predict(X_test)"
   ]
  },
  {
   "cell_type": "code",
   "execution_count": null,
   "id": "b437b83c-f6fc-4a7f-b879-d33d72660209",
   "metadata": {},
   "outputs": [],
   "source": [
    "# 6. Evaluasi Model\n",
    "print(\"\\nMetrik Evaluasi:\")\n",
    "print(\"Akurasi:\", accuracy_score(y_test, y_pred))\n",
    "print(\"\\nLaporan Klasifikasi:\")\n",
    "print(classification_report(y_test, y_pred))"
   ]
  },
  {
   "cell_type": "code",
   "execution_count": null,
   "id": "1be3a405-e090-4cfa-868e-a2bfd071c665",
   "metadata": {},
   "outputs": [],
   "source": [
    "# 7. Visualisasi Confusion Matrix\n",
    "plt.figure(figsize=(8,6))\n",
    "cm = confusion_matrix(y_test, y_pred)\n",
    "sns.heatmap(\n",
    "    cm, \n",
    "    annot=True, \n",
    "    fmt='d', \n",
    "    cmap='Blues',\n",
    "    xticklabels=['Non-Smoker', 'Smoker'],  # Sesuaikan label sesuai dengan data Anda\n",
    "    yticklabels=['Non-Smoker', 'Smoker']\n",
    ")\n",
    "plt.title('Confusion Matrix SVM')\n",
    "plt.xlabel('Prediksi')\n",
    "plt.ylabel('Aktual')\n",
    "plt.show()"
   ]
  },
  {
   "cell_type": "code",
   "execution_count": null,
   "id": "073974a1-f55a-4d71-a1d0-9defb49fc2e8",
   "metadata": {},
   "outputs": [],
   "source": [
    "# 8. Kurva ROC\n",
    "y_pred_proba = svm_model.predict_proba(X_test)[:, 1]  # Ambil probabilitas untuk kelas positif\n",
    "fpr, tpr, _ = roc_curve(y_test, y_pred_proba)\n",
    "roc_auc = auc(fpr, tpr)\n",
    "\n",
    "plt.figure(figsize=(8,6))\n",
    "plt.plot(fpr, tpr, color='darkorange', lw=2, label=f'ROC curve (AUC = {roc_auc:.2f})')\n",
    "plt.plot([0, 1], [0, 1], color='navy', lw=2, linestyle='--')\n",
    "plt.xlim([0.0, 1.0])\n",
    "plt.ylim([0.0, 1.05])\n",
    "plt.xlabel('False Positive Rate')\n",
    "plt.ylabel('True Positive Rate')\n",
    "plt.title('Receiver Operating Characteristic (ROC)')\n",
    "plt.legend(loc=\"lower right\")\n",
    "plt.show()"
   ]
  }
 ],
 "metadata": {
  "kernelspec": {
   "display_name": "Python 3 (ipykernel)",
   "language": "python",
   "name": "python3"
  },
  "language_info": {
   "codemirror_mode": {
    "name": "ipython",
    "version": 3
   },
   "file_extension": ".py",
   "mimetype": "text/x-python",
   "name": "python",
   "nbconvert_exporter": "python",
   "pygments_lexer": "ipython3",
   "version": "3.11.7"
  }
 },
 "nbformat": 4,
 "nbformat_minor": 5
}
